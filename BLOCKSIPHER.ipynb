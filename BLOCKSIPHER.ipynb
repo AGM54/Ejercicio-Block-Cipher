{
 "cells": [
  {
   "cell_type": "markdown",
   "metadata": {},
   "source": [
    "# 1. Generación una función cifrado y descifrado DES \n",
    "\n",
    "Escriban una función en el lenguaje de programación que prefieran, que tome un mensaje en texto plano y lo cifre implementando el algoritmo de cifrado DES con el modo ECB.\n",
    "Implemente la generación aleatoria del la llave\n",
    "Implemente la función de relleno de bits manualmente"
   ]
  },
  {
   "cell_type": "code",
   "execution_count": null,
   "metadata": {},
   "outputs": [
    {
     "name": "stdout",
     "output_type": "stream",
     "text": [
      "Llave generada: 0fe6efc3c43fa15b\n",
      "Cifrado: cee32573b969bed2281b11ea671988c5\n",
      "Descifrado: Hola mundo!\n"
     ]
    }
   ],
   "source": [
    "from Crypto.Cipher import DES\n",
    "from Crypto.Random import get_random_bytes\n",
    "import binascii\n",
    "\n",
    "def pad(text):\n",
    "    \"\"\"Aplica un relleno manual al texto para que sea múltiplo de 8 bytes.\"\"\"\n",
    "    while len(text) % 8 != 0:\n",
    "        text += ' '\n",
    "    return text\n",
    "\n",
    "def encrypt_des_ecb(plaintext, key):\n",
    "    \"\"\"Cifra un mensaje utilizando DES en modo ECB.\"\"\"\n",
    "    cipher = DES.new(key, DES.MODE_ECB)\n",
    "    padded_text = pad(plaintext)\n",
    "    ciphertext = cipher.encrypt(padded_text.encode('utf-8'))\n",
    "    return binascii.hexlify(ciphertext).decode('utf-8')\n",
    "\n",
    "def decrypt_des_ecb(ciphertext, key):\n",
    "    \"\"\"Descifra un mensaje cifrado con DES en modo ECB.\"\"\"\n",
    "    cipher = DES.new(key, DES.MODE_ECB)\n",
    "    decrypted_text = cipher.decrypt(binascii.unhexlify(ciphertext)).decode('utf-8')\n",
    "    return decrypted_text.strip()\n",
    "\n",
    "# Generar una llave aleatoria de 8 bytes\n",
    "key = get_random_bytes(8)\n",
    "print(f'Llave generada: {binascii.hexlify(key).decode()}')\n",
    "\n",
    "# Mensaje \n",
    "message = \"Hola mundo!\"\n",
    "ciphertext = encrypt_des_ecb(message, key)\n",
    "print(f'Cifrado: {ciphertext}')\n",
    "\n",
    "decrypted_message = decrypt_des_ecb(ciphertext, key)\n",
    "print(f'Descifrado: {decrypted_message}')\n"
   ]
  },
  {
   "cell_type": "markdown",
   "metadata": {},
   "source": [
    "# 2. Generación una función cifrado y descifrado 3DES\n",
    "\n",
    "Escriban una función en el lenguaje de programación que prefieran, que tome un mensaje en texto plano y lo cifre implementando el algoritmo de cifrado 3DES con el modo CBC.\n",
    "Implemente la generación aleatoria del la llave\n",
    "Utilice la función de relleno de bits de la librería por medio de pad"
   ]
  },
  {
   "cell_type": "code",
   "execution_count": 16,
   "metadata": {},
   "outputs": [
    {
     "name": "stdout",
     "output_type": "stream",
     "text": [
      "Llave DES generada: 38d0eb00e18c9bf7\n",
      "Llave 3DES generada: 8f7f3d15d69dc2b6d6eaf2bfae0e2949baa8a1f270c17fa7\n",
      "Cifrado DES ECB: 774627f38bd3d5a6cc43ebc037e2899c\n",
      "Descifrado DES ECB: Hola mundo!\n",
      "Cifrado 3DES CBC: ff8ee4fc4e861b1584c55c2641e4357dd8bbc182a9ab7ade\n",
      "Descifrado 3DES CBC: Hola mundo!\n"
     ]
    }
   ],
   "source": [
    "from Crypto.Cipher import DES, DES3\n",
    "from Crypto.Random import get_random_bytes\n",
    "from Crypto.Util.Padding import pad, unpad\n",
    "import binascii\n",
    "\n",
    "def encrypt_des_ecb(plaintext, key):\n",
    "    \"\"\"Cifra un mensaje utilizando DES en modo ECB.\"\"\"\n",
    "    cipher = DES.new(key, DES.MODE_ECB)\n",
    "    padded_text = pad(plaintext.encode('utf-8'), DES.block_size)\n",
    "    ciphertext = cipher.encrypt(padded_text)\n",
    "    return binascii.hexlify(ciphertext).decode('utf-8')\n",
    "\n",
    "def decrypt_des_ecb(ciphertext, key):\n",
    "    \"\"\"Descifra un mensaje cifrado con DES en modo ECB.\"\"\"\n",
    "    cipher = DES.new(key, DES.MODE_ECB)\n",
    "    decrypted_text = unpad(cipher.decrypt(binascii.unhexlify(ciphertext)), DES.block_size).decode('utf-8')\n",
    "    return decrypted_text\n",
    "\n",
    "def encrypt_3des_cbc(plaintext, key):\n",
    "    \"\"\"Cifra un mensaje utilizando 3DES en modo CBC.\"\"\"\n",
    "    iv = get_random_bytes(DES3.block_size)\n",
    "    cipher = DES3.new(key, DES3.MODE_CBC, iv)\n",
    "    padded_text = pad(plaintext.encode('utf-8'), DES3.block_size)\n",
    "    ciphertext = cipher.encrypt(padded_text)\n",
    "    return binascii.hexlify(iv + ciphertext).decode('utf-8')\n",
    "\n",
    "def decrypt_3des_cbc(ciphertext, key):\n",
    "    \"\"\"Descifra un mensaje cifrado con 3DES en modo CBC.\"\"\"\n",
    "    ciphertext = binascii.unhexlify(ciphertext)\n",
    "    iv = ciphertext[:DES3.block_size]\n",
    "    cipher = DES3.new(key, DES3.MODE_CBC, iv)\n",
    "    decrypted_text = unpad(cipher.decrypt(ciphertext[DES3.block_size:]), DES3.block_size).decode('utf-8')\n",
    "    return decrypted_text\n",
    "\n",
    "# Generar una llave aleatoria de 8 bytes para DES y 24 bytes para 3DES\n",
    "key_des = get_random_bytes(8)\n",
    "key_3des = DES3.adjust_key_parity(get_random_bytes(24))\n",
    "\n",
    "print(f'Llave DES generada: {binascii.hexlify(key_des).decode()}')\n",
    "print(f'Llave 3DES generada: {binascii.hexlify(key_3des).decode()}')\n",
    "\n",
    "# Mensaje \n",
    "message = \"Hola mundo!\"\n",
    "\n",
    "# Prueba con DES ECB\n",
    "ciphertext_des = encrypt_des_ecb(message, key_des)\n",
    "print(f'Cifrado DES ECB: {ciphertext_des}')\n",
    "decrypted_message_des = decrypt_des_ecb(ciphertext_des, key_des)\n",
    "print(f'Descifrado DES ECB: {decrypted_message_des}')\n",
    "\n",
    "# Prueba con 3DES CBC\n",
    "ciphertext_3des = encrypt_3des_cbc(message, key_3des)\n",
    "print(f'Cifrado 3DES CBC: {ciphertext_3des}')\n",
    "decrypted_message_3des = decrypt_3des_cbc(ciphertext_3des, key_3des)\n",
    "print(f'Descifrado 3DES CBC: {decrypted_message_3des}')\n"
   ]
  }
 ],
 "metadata": {
  "kernelspec": {
   "display_name": "Python 3",
   "language": "python",
   "name": "python3"
  },
  "language_info": {
   "codemirror_mode": {
    "name": "ipython",
    "version": 3
   },
   "file_extension": ".py",
   "mimetype": "text/x-python",
   "name": "python",
   "nbconvert_exporter": "python",
   "pygments_lexer": "ipython3",
   "version": "3.11.9"
  }
 },
 "nbformat": 4,
 "nbformat_minor": 2
}
