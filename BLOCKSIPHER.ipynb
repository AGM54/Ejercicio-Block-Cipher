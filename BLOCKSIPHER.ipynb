{
 "cells": [
  {
   "cell_type": "markdown",
   "metadata": {},
   "source": [
    "# 1. Generación una función cifrado y descifrado DES \n",
    "\n",
    "Escriban una función en el lenguaje de programación que prefieran, que tome un mensaje en texto plano y lo cifre implementando el algoritmo de cifrado DES con el modo ECB.\n",
    "Implemente la generación aleatoria del la llave\n",
    "Implemente la función de relleno de bits manualmente"
   ]
  },
  {
   "cell_type": "code",
   "execution_count": 17,
   "metadata": {},
   "outputs": [
    {
     "name": "stdout",
     "output_type": "stream",
     "text": [
      "Clave generada: 0484f7e286698220\n",
      "Texto cifrado (hex): 77092640e54b40c69cb9990922d1f226a230cf698b639889cbee87c7647cede2b0bc48a9dabdd94de0f7deeb4d85e8d215b6987a86668bf51bc9fdd9a61254025ac308ea6c0eae0f39ae84c0f10dbac80e68eb2340b09f688659a0854f77490ac55df6fc9736a4f25a68364b059b9e14fc4108a16d99bb5bf68f6612c9d548aa70bfe8ae59fe2c89b3dbf80a24adc17c44218bba56ef67b3458197fb0aa7aaf98fdda99fc58b78a7e4c50879495e96dc8cc9b7bf8b86abb1e8680817be221e747a7310b64e7f0aa83ef17372441024c7287848e3e8d072c7eddf625670022ba5d0c4c2a94325debf2edaae7b77d963ba2858e3597a211fa042334cc7e00072e09490020b7fca6a23cbf8c992f6632e75299096a63e1c5940d39ef31451f978e0f0660e2d5e4f6881a2d1fa35a322b0ccbd51c64882c382483251d342d742c7cfbd6ecc22a2196801a06387f7d8c88f9c590417a698e8f7bafceb3d801dd43942edcfa37124e0e917228a2944eb63f4c075cca9e2a8af145a5bd8b995f19e1c09da61291bedf67f17033f02ab368a944bf464ef0fb239a4ad44eee02e627251c03020e6f2ad1ff2bb\n",
      "Texto descifrado:\n",
      "The DES block cipher is a 16-round Feistel network with a block length of\n",
      "64 bits and a key length of 56 bits. The same round function ˆ f is used in each\n",
      "of the 16 rounds. The round function takes a 48-bit sub-key and, as expected\n",
      "for a (balanced) Feistel network, a 32-bit input (namely, half a block). The\n",
      "key schedule of DES is used to derive a sequence of 48-bit sub-keys k1, . . . , k16\n",
      "from the 56-bit master key.\n"
     ]
    }
   ],
   "source": [
    "from Crypto.Cipher import DES\n",
    "import os\n",
    "\n",
    "def pad(text):\n",
    "    \"\"\" Agrega padding manualmente para que el texto sea múltiplo de 8 bytes. \"\"\"\n",
    "    padding_len = 8 - (len(text) % 8)\n",
    "    return text + (chr(padding_len) * padding_len).encode()\n",
    "\n",
    "def unpad(text):\n",
    "    \"\"\" Remueve el padding manualmente. \"\"\"\n",
    "    padding_len = text[-1]\n",
    "    return text[:-padding_len]\n",
    "\n",
    "def generate_key():\n",
    "    \"\"\" Genera una llave de 8 bytes aleatoria. \"\"\"\n",
    "    return os.urandom(8)\n",
    "\n",
    "def encrypt_des_ecb(plaintext, key):\n",
    "    \"\"\" Cifra un texto con DES en modo ECB. \"\"\"\n",
    "    cipher = DES.new(key, DES.MODE_ECB)\n",
    "    padded_text = pad(plaintext)\n",
    "    ciphertext = cipher.encrypt(padded_text)\n",
    "    return ciphertext\n",
    "\n",
    "def decrypt_des_ecb(ciphertext, key):\n",
    "    \"\"\" Descifra un texto cifrado con DES en modo ECB. \"\"\"\n",
    "    cipher = DES.new(key, DES.MODE_ECB)\n",
    "    decrypted_text = cipher.decrypt(ciphertext)\n",
    "    return unpad(decrypted_text)\n",
    "\n",
    "# Leer el archivo des.txt\n",
    "with open(\"des.txt\", \"rb\") as file:\n",
    "    plaintext = file.read()\n",
    "\n",
    "# Generar clave DES\n",
    "key = generate_key()\n",
    "print(f\"Clave generada: {key.hex()}\")\n",
    "\n",
    "# Cifrar\n",
    "ciphertext = encrypt_des_ecb(plaintext, key)\n",
    "print(f\"Texto cifrado (hex): {ciphertext.hex()}\")\n",
    "\n",
    "# Descifrar\n",
    "decrypted_text = decrypt_des_ecb(ciphertext, key)\n",
    "print(f\"Texto descifrado:\\n{decrypted_text.decode(errors='ignore')}\")\n"
   ]
  },
  {
   "cell_type": "markdown",
   "metadata": {},
   "source": [
    "# 2. Generación una función cifrado y descifrado 3DES\n",
    "\n",
    "Escriban una función en el lenguaje de programación que prefieran, que tome un mensaje en texto plano y lo cifre implementando el algoritmo de cifrado 3DES con el modo CBC.\n",
    "Implemente la generación aleatoria del la llave\n",
    "Utilice la función de relleno de bits de la librería por medio de pad"
   ]
  },
  {
   "cell_type": "code",
   "execution_count": null,
   "metadata": {},
   "outputs": [],
   "source": [
    "\n",
    "from Crypto.Cipher import DES3\n",
    "from Crypto.Util.Padding import pad, unpad\n",
    "from Crypto.Random import get_random_bytes\n",
    "\n",
    "def generate_key():\n",
    "    \"\"\"Genera una llave aleatoria de 24 bytes válida para 3DES.\"\"\"\n",
    "    while True:\n",
    "        key = get_random_bytes(24)\n",
    "        try:\n",
    "            DES3.new(key, DES3.MODE_CBC)  # Verifica si la llave es válida\n",
    "            return key\n",
    "        except ValueError:\n",
    "            continue  # En caso de que la llave no sea válida, intenta generar otra\n",
    "\n",
    "def encrypt_3des_cbc(plaintext, key):\n",
    "    \"\"\"Cifra un texto con 3DES en modo CBC.\"\"\"\n",
    "    iv = get_random_bytes(8)  # Vector de inicialización de 8 bytes\n",
    "    cipher = DES3.new(key, DES3.MODE_CBC, iv)\n",
    "    ciphertext = cipher.encrypt(pad(plaintext, DES3.block_size))\n",
    "    return iv + ciphertext  # Se concatena el IV al inicio del texto cifrado\n",
    "\n",
    "def decrypt_3des_cbc(ciphertext, key):\n",
    "    \"\"\"Descifra un texto cifrado con 3DES en modo CBC.\"\"\"\n",
    "    iv = ciphertext[:8]  # Extrae el IV del inicio del mensaje\n",
    "    ciphertext = ciphertext[8:]\n",
    "    cipher = DES3.new(key, DES3.MODE_CBC, iv)\n",
    "    decrypted_text = unpad(cipher.decrypt(ciphertext), DES3.block_size)\n",
    "    return decrypted_text\n",
    "\n",
    "ruta_archivo = \"3des (1).txt\"\n",
    "with open(ruta_archivo, \"rb\") as file:\n",
    "    plaintext = file.read()\n",
    "\n",
    "# Generar clave 3DES\n",
    "key = generate_key()\n",
    "print(f\"Clave generada (hex): {key.hex()}\")\n",
    "\n",
    "# Cifrar\n",
    "ciphertext = encrypt_3des_cbc(plaintext, key)\n",
    "print(f\"Texto cifrado (hex): {ciphertext.hex()}\")\n",
    "\n",
    "# Descifrar\n",
    "decrypted_text = decrypt_3des_cbc(ciphertext, key)\n",
    "print(f\"Texto descifrado:\\n{decrypted_text.decode(errors='ignore')}\")\n",
    "\n"
   ]
  }
 ],
 "metadata": {
  "kernelspec": {
   "display_name": "Python 3",
   "language": "python",
   "name": "python3"
  },
  "language_info": {
   "codemirror_mode": {
    "name": "ipython",
    "version": 3
   },
   "file_extension": ".py",
   "mimetype": "text/x-python",
   "name": "python",
   "nbconvert_exporter": "python",
   "pygments_lexer": "ipython3",
   "version": "3.11.9"
  }
 },
 "nbformat": 4,
 "nbformat_minor": 2
}
